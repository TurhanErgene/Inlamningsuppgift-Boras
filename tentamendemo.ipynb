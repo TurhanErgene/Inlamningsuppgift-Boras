{
 "cells": [
  {
   "cell_type": "code",
   "execution_count": 2,
   "metadata": {},
   "outputs": [
    {
     "name": "stdout",
     "output_type": "stream",
     "text": [
      "['Cars', 'mpg', 'cyl', 'disp', 'hp', 'wt', 'am', 'gear', 'carb']\n",
      "['Cadillac Fleetwood', '10,4', '8', '472', '205', '5,25', '0', '3', '4']\n",
      "['Lincoln Continental', '10,4', '8', '460', '215', '5,424', '0', '3', '4']\n",
      "['Camaro Z28', '13,3', '8', '350', '245', '3,84', '0', '3', '4']\n",
      "['Duster 360', '14,3', '8', '360', '245', '3,57', '0', '3', '4']\n"
     ]
    }
   ],
   "source": [
    "#don't forget to put cars.csv in the same folder. And run this cell first before running b)-d)\n",
    "import csv\n",
    "\n",
    "#2p\n",
    "cars = []\n",
    "def read_file(file_name):\n",
    "    with open(file_name,'r') as file_1:\n",
    "        csv_reader = csv.reader(file_1, delimiter=';')    \n",
    "        for rad in csv_reader:\n",
    "            cars.append(rad)\n",
    "    return cars\n",
    "\n",
    "#1p\n",
    "cars_data = read_file('cars.csv')\n",
    "#print(cars_data[0:5]) #print first 5 rows\n",
    "\n",
    "#or in a nicer way\n",
    "for i in range(0,5):\n",
    "   print(cars[i])"
   ]
  },
  {
   "cell_type": "code",
   "execution_count": 6,
   "metadata": {},
   "outputs": [
    {
     "name": "stdout",
     "output_type": "stream",
     "text": [
      "{'0': 19, '1': 13}\n"
     ]
    }
   ],
   "source": [
    "am = []\n",
    "count_am = {}\n",
    "\n",
    "for i in range(1,len(cars_data)):\n",
    "    for j in range(1):\n",
    "        am.append(cars_data[i][6])\n",
    "        \n",
    "for i in am: #count automatic/manual cars\n",
    "    if not i in count_am:\n",
    "        count_am[i] = 1\n",
    "    else:\n",
    "        count_am[i] +=1\n",
    "\n",
    "print(count_am)"
   ]
  },
  {
   "cell_type": "code",
   "execution_count": 5,
   "metadata": {},
   "outputs": [
    {
     "name": "stdout",
     "output_type": "stream",
     "text": [
      "{'3': 15, '5': 5, '4': 12}\n"
     ]
    }
   ],
   "source": [
    "gear = []\n",
    "count_gear = {}\n",
    "\n",
    "for i in range(1,len(cars_data)):\n",
    "    gear.append(cars_data[i][7])\n",
    "        \n",
    "for i in gear: #count automatic/manual cars\n",
    "    if not i in count_gear:\n",
    "        count_gear[i] = 1\n",
    "    else:\n",
    "        count_gear[i] +=1\n",
    "\n",
    "print(count_gear)"
   ]
  },
  {
   "cell_type": "code",
   "execution_count": 9,
   "metadata": {},
   "outputs": [
    {
     "name": "stdout",
     "output_type": "stream",
     "text": [
      "-------------------------------------------\n",
      "Automatic/Manual (am)\t   Count of Cars\n",
      "--------------------------------------------\n",
      "0                           19\n",
      "1                           13\n",
      "-------------------------------------------\n",
      "gear\t                  Count of Cars\n",
      "--------------------------------------------\n",
      "3                           60\n",
      "5                           20\n",
      "4                           48\n"
     ]
    }
   ],
   "source": [
    "#2p      \n",
    "print(f'-------------------------------------------')        \n",
    "print(f'Automatic/Manual (am)\\t   Count of Cars')\n",
    "print(f'--------------------------------------------')\n",
    "for k in count_am:\n",
    "             print(f'{k:6}              {count_am[k]:10}')\n",
    "\n",
    "for i in gear: #count gear types\n",
    "    if not i in count_gear:\n",
    "        count_gear[i] = 1\n",
    "    else:\n",
    "        count_gear[i] +=1\n",
    "print(f'-------------------------------------------')        \n",
    "print(f'gear\\t                  Count of Cars')\n",
    "print(f'--------------------------------------------')\n",
    "for m in count_gear:\n",
    "             print(f'{m:6}              {count_gear[m]:10}')\n",
    "\n"
   ]
  },
  {
   "cell_type": "code",
   "execution_count": null,
   "metadata": {},
   "outputs": [],
   "source": [
    "import matplotlib.pyplot as plt\n",
    "\n",
    "#2p the plotting\n",
    "x1= list(count_am.keys())\n",
    "y1= list(count_am.values())  \n",
    "x2= list(count_gear.keys())\n",
    "y2= list(count_gear.values())  \n",
    "\n",
    "#plt.subplot takes three arguments, the number of rows (nrows), the number of columns (ncols) and the plot number. Using the 3-digit code is a convenience function provided for when nrows, ncols and plot_number are all <10.\n",
    "plt.figure(figsize=(7, 9))\n",
    "plt.subplot(211) \n",
    "plt.bar(x1,y1, color='blue')\n",
    "plt.grid()\n",
    "plt.ylabel(\"Count of Cars\", fontsize=10)\n",
    "plt.xlabel(\"am\", fontsize=10)\n",
    "\n",
    "plt.subplot(212)\n",
    "plt.bar(x2,y2, color='green')\n",
    "plt.xlabel('x')\n",
    "plt.ylabel('y') \n",
    "\n",
    "plt.ylabel(\"Count of Cars\", fontsize=10)\n",
    "plt.xlabel(\"gear\", fontsize=10)\n",
    "\n",
    "plt.grid()"
   ]
  },
  {
   "cell_type": "code",
   "execution_count": null,
   "metadata": {},
   "outputs": [],
   "source": [
    "cars_name = []\n",
    "for i in range(0,len(cars_data)):\n",
    "  for j in cars_data:\n",
    "    cars_name.append(j[0])\n",
    "\n",
    "cars_name.pop(0)\n",
    "\n",
    "cars_name"
   ]
  },
  {
   "cell_type": "code",
   "execution_count": null,
   "metadata": {},
   "outputs": [],
   "source": []
  },
  {
   "cell_type": "code",
   "execution_count": null,
   "metadata": {},
   "outputs": [],
   "source": []
  },
  {
   "cell_type": "code",
   "execution_count": null,
   "metadata": {},
   "outputs": [],
   "source": []
  },
  {
   "cell_type": "code",
   "execution_count": null,
   "metadata": {},
   "outputs": [],
   "source": []
  },
  {
   "cell_type": "code",
   "execution_count": null,
   "metadata": {},
   "outputs": [],
   "source": []
  }
 ],
 "metadata": {
  "kernelspec": {
   "display_name": "Python 3",
   "language": "python",
   "name": "python3"
  },
  "language_info": {
   "codemirror_mode": {
    "name": "ipython",
    "version": 3
   },
   "file_extension": ".py",
   "mimetype": "text/x-python",
   "name": "python",
   "nbconvert_exporter": "python",
   "pygments_lexer": "ipython3",
   "version": "3.10.5"
  }
 },
 "nbformat": 4,
 "nbformat_minor": 2
}
